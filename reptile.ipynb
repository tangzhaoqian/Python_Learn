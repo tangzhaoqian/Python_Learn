{
 "cells": [
  {
   "cell_type": "code",
   "execution_count": 18,
   "id": "572ccbf5",
   "metadata": {},
   "outputs": [
    {
     "name": "stdout",
     "output_type": "stream",
     "text": [
      "1\n",
      "https://image.baidu.com/search/flip?tn=baiduimage&ie=utf-8&word==清纯妹子私房照+&pn=0\n",
      "找到关键字:清纯妹子私房照的图片开始下载。。。\n",
      "正在下载第60张图片，图片地址：https://gimg2.baidu.com/image_search/src=http%3A%2F%2Ft1.hxzdhn.com%2Fuploads%2Ftu%2F202002%2F9999%2F181aa2b007.jpg&refer=http%3A%2F%2Ft1.hxzdhn.com&app=2002&size=f9999,10000&q=a80&n=0&g=0n&fmt=jpeg?sec=1623503462&t=7d6a968687aff650597ea65e4f582b0b\n",
      "正在下载第61张图片，图片地址：https://gimg2.baidu.com/image_search/src=http%3A%2F%2Fnimg.ws.126.net%2F%3Furl%3Dhttp%253A%252F%252Fdingyue.ws.126.net%252F2021%252F0505%252F1231daa2j00qslyp1000jc000hs00bug.jpg%26thumbnail%3D650x2147483647%26quality%3D80%26type%3Djpg&refer=http%3A%2F%2Fnimg.ws.126.net&app=2002&size=f9999,10000&q=a80&n=0&g=0n&fmt=jpeg?sec=1623503462&t=1981ecac0354bf7b73f488311ab9b4db\n",
      "正在下载第62张图片，图片地址：https://gimg2.baidu.com/image_search/src=http%3A%2F%2Finews.gtimg.com%2Fnewsapp_match%2F0%2F11865420421%2F0.jpg&refer=http%3A%2F%2Finews.gtimg.com&app=2002&size=f9999,10000&q=a80&n=0&g=0n&fmt=jpeg?sec=1623503462&t=dc56587ba7790a1288ea4b141bde6261\n",
      "正在下载第63张图片，图片地址：https://gimg2.baidu.com/image_search/src=http%3A%2F%2Fpic1.win4000.com%2Fwallpaper%2F2019-08-14%2F5d53d713eefec.jpg&refer=http%3A%2F%2Fpic1.win4000.com&app=2002&size=f9999,10000&q=a80&n=0&g=0n&fmt=jpeg?sec=1623503462&t=4b239eb8e625d9e7990d1e549d8444e9\n",
      "正在下载第64张图片，图片地址：https://gimg2.baidu.com/image_search/src=http%3A%2F%2Fi0.hdslb.com%2Fbfs%2Farticle%2Fcb868373f96f5bdfbc62ac8c35c40aff19681adf.jpg&refer=http%3A%2F%2Fi0.hdslb.com&app=2002&size=f9999,10000&q=a80&n=0&g=0n&fmt=jpeg?sec=1623503462&t=5ade2e335cfac77f55489fd1799260b2\n",
      "正在下载第65张图片，图片地址：https://gimg2.baidu.com/image_search/src=http%3A%2F%2Fnimg.ws.126.net%2F%3Furl%3Dhttp%253A%252F%252Fdingyue.ws.126.net%252F2021%252F0505%252Fd02901d2j00qslyp2000rc000hs00bug.jpg%26thumbnail%3D650x2147483647%26quality%3D80%26type%3Djpg&refer=http%3A%2F%2Fnimg.ws.126.net&app=2002&size=f9999,10000&q=a80&n=0&g=0n&fmt=jpeg?sec=1623503462&t=25dff02252c9d57e80708f0510bf7e29\n",
      "正在下载第66张图片，图片地址：https://gimg2.baidu.com/image_search/src=http%3A%2F%2Fimg5.51tietu.net%2Fpic%2F2019-083121%2Frkcj022ebwsrkcj022ebws.jpg&refer=http%3A%2F%2Fimg5.51tietu.net&app=2002&size=f9999,10000&q=a80&n=0&g=0n&fmt=jpeg?sec=1623503462&t=7605e5e7612e6b26d607396f38397a6d\n",
      "正在下载第67张图片，图片地址：https://gimg2.baidu.com/image_search/src=http%3A%2F%2Fpic1.win4000.com%2Fpic%2Fb%2F82%2F189b414969.jpg&refer=http%3A%2F%2Fpic1.win4000.com&app=2002&size=f9999,10000&q=a80&n=0&g=0n&fmt=jpeg?sec=1623503462&t=3a418925669e78d297c9e9109c66ee8d\n",
      "正在下载第68张图片，图片地址：https://gimg2.baidu.com/image_search/src=http%3A%2F%2Fimg5.51tietu.net%2Fpic%2F2019-090108%2Fsdzbr1bu3d1sdzbr1bu3d1.jpg&refer=http%3A%2F%2Fimg5.51tietu.net&app=2002&size=f9999,10000&q=a80&n=0&g=0n&fmt=jpeg?sec=1623503462&t=4e957006649f5abeebd669a3275794d4\n",
      "正在下载第69张图片，图片地址：https://gimg2.baidu.com/image_search/src=http%3A%2F%2Fi0.hdslb.com%2Fbfs%2Farticle%2F665ee2aba2b91602f17d6861ca998a42b8dbae88.jpg&refer=http%3A%2F%2Fi0.hdslb.com&app=2002&size=f9999,10000&q=a80&n=0&g=0n&fmt=jpeg?sec=1623503462&t=ccc17ce01fc7f17835a5f58ac8a80aff\n",
      "正在下载第70张图片，图片地址：https://gimg2.baidu.com/image_search/src=http%3A%2F%2Fpic1.win4000.com%2Fpic%2F0%2F8b%2F8767712789.jpg_195.jpg&refer=http%3A%2F%2Fpic1.win4000.com&app=2002&size=f9999,10000&q=a80&n=0&g=0n&fmt=jpeg?sec=1623503462&t=4095a8b40162a24a1e491a78d0846ca6\n",
      "正在下载第71张图片，图片地址：https://gimg2.baidu.com/image_search/src=http%3A%2F%2Fimg9.51tietu.net%2Fpic%2F2019-091209%2Fdahlp1jdndzdahlp1jdndz.jpg&refer=http%3A%2F%2Fimg9.51tietu.net&app=2002&size=f9999,10000&q=a80&n=0&g=0n&fmt=jpeg?sec=1623503462&t=ae2a72b1336a26142b273c50af788a84\n",
      "正在下载第72张图片，图片地址：https://gimg2.baidu.com/image_search/src=http%3A%2F%2Fpic1.win4000.com%2Fmobile%2F2017-10-10%2F59dc72fa94d76.jpg&refer=http%3A%2F%2Fpic1.win4000.com&app=2002&size=f9999,10000&q=a80&n=0&g=0n&fmt=jpeg?sec=1623503462&t=8f1f000c9ddcf90aca8503fb511dca72\n",
      "正在下载第73张图片，图片地址：https://gimg2.baidu.com/image_search/src=http%3A%2F%2Fimg5.51tietu.net%2Fpic%2F2019-090111%2Fpqvwhhdy23lpqvwhhdy23l.jpg&refer=http%3A%2F%2Fimg5.51tietu.net&app=2002&size=f9999,10000&q=a80&n=0&g=0n&fmt=jpeg?sec=1623503462&t=4d0fa76f8639bdffadb1f633ac7ad445\n",
      "正在下载第74张图片，图片地址：https://gimg2.baidu.com/image_search/src=http%3A%2F%2Fpic1.win4000.com%2Fpic%2F5%2F49%2F6c2e939fc1.jpg&refer=http%3A%2F%2Fpic1.win4000.com&app=2002&size=f9999,10000&q=a80&n=0&g=0n&fmt=jpeg?sec=1623503462&t=e4320120a8843727e7e7d615f5ecff49\n",
      "正在下载第75张图片，图片地址：https://gimg2.baidu.com/image_search/src=http%3A%2F%2Fimg9.51tietu.net%2Fpic%2F2019-091016%2Fbcr4si0zyk1bcr4si0zyk1.jpg&refer=http%3A%2F%2Fimg9.51tietu.net&app=2002&size=f9999,10000&q=a80&n=0&g=0n&fmt=jpeg?sec=1623503462&t=d0b020c7afd7ff38314071f84cae7b17\n",
      "正在下载第76张图片，图片地址：https://gimg2.baidu.com/image_search/src=http%3A%2F%2Fpic1.win4000.com%2Fwallpaper%2F2017-10-24%2F59eed20161d69.jpg&refer=http%3A%2F%2Fpic1.win4000.com&app=2002&size=f9999,10000&q=a80&n=0&g=0n&fmt=jpeg?sec=1623503462&t=910e4c902dbdc08eabc0d4199687cb26\n",
      "正在下载第77张图片，图片地址：https://gimg2.baidu.com/image_search/src=http%3A%2F%2Fpic1.win4000.com%2Fpic%2Fc%2F2c%2F965e675938.jpg&refer=http%3A%2F%2Fpic1.win4000.com&app=2002&size=f9999,10000&q=a80&n=0&g=0n&fmt=jpeg?sec=1623503462&t=c6704bd56161fab5b4ba3ce6a8d92678\n",
      "正在下载第78张图片，图片地址：https://gimg2.baidu.com/image_search/src=http%3A%2F%2Fpic1.win4000.com%2Fpic%2Fe%2F64%2Fd7281584103.jpg_195.jpg&refer=http%3A%2F%2Fpic1.win4000.com&app=2002&size=f9999,10000&q=a80&n=0&g=0n&fmt=jpeg?sec=1623503462&t=7124a23dccf45490e023edf07cd6f3ee\n",
      "正在下载第79张图片，图片地址：https://gimg2.baidu.com/image_search/src=http%3A%2F%2Fpic1.win4000.com%2Fwallpaper%2F6%2F53e9b91fdf199.jpg&refer=http%3A%2F%2Fpic1.win4000.com&app=2002&size=f9999,10000&q=a80&n=0&g=0n&fmt=jpeg?sec=1623503462&t=c934995c535775fc44fe84f11ff68367\n",
      "正在下载第80张图片，图片地址：https://gimg2.baidu.com/image_search/src=http%3A%2F%2F00.minipic.eastday.com%2F20170123%2F20170123112932_065c84338deec52f0812978fe6ab8a67_13.jpeg&refer=http%3A%2F%2F00.minipic.eastday.com&app=2002&size=f9999,10000&q=a80&n=0&g=0n&fmt=jpeg?sec=1623503462&t=87c9b9535734192292fb13de667aa899\n",
      "正在下载第81张图片，图片地址：https://gimg2.baidu.com/image_search/src=http%3A%2F%2Fimg9.51tietu.net%2Fpic%2F2019-091223%2Frakobvbsmnfrakobvbsmnf.jpg&refer=http%3A%2F%2Fimg9.51tietu.net&app=2002&size=f9999,10000&q=a80&n=0&g=0n&fmt=jpeg?sec=1623503462&t=d4534704c15c2ec29b88fbcd9fb2e181\n",
      "正在下载第82张图片，图片地址：https://gimg2.baidu.com/image_search/src=http%3A%2F%2Fpic1.win4000.com%2Fpic%2Fe%2Fec%2F9a14462220.jpg&refer=http%3A%2F%2Fpic1.win4000.com&app=2002&size=f9999,10000&q=a80&n=0&g=0n&fmt=jpeg?sec=1623503462&t=8a2aecbe0c13ad6125a912cf509af316\n",
      "正在下载第83张图片，图片地址：https://gimg2.baidu.com/image_search/src=http%3A%2F%2Fpic.jj20.com%2Fup%2Fallimg%2Fmn01%2F03061Z00453%2F1Z306000453-1.jpg&refer=http%3A%2F%2Fpic.jj20.com&app=2002&size=f9999,10000&q=a80&n=0&g=0n&fmt=jpeg?sec=1623503462&t=c53a79ef8ddf20bbbf82fb03846b338b\n",
      "正在下载第84张图片，图片地址：https://pic.rmb.bdstatic.com/513ffd6332108cf5ee28cf256deec516.jpeg@wm_2,t_55m+5a625Y+3L+mAhuexs+WFiQ==,fc_ffffff,ff_U2ltSGVp,sz_36,x_23,y_23\n",
      "正在下载第85张图片，图片地址：https://gimg2.baidu.com/image_search/src=http%3A%2F%2Fpic1.win4000.com%2Fpic%2Fb%2F6c%2F3ad41600030.jpg%3Fdown&refer=http%3A%2F%2Fpic1.win4000.com&app=2002&size=f9999,10000&q=a80&n=0&g=0n&fmt=jpeg?sec=1623503462&t=823b7d28d4f4e0f78e7260458e791bf1\n",
      "正在下载第86张图片，图片地址：https://gimg2.baidu.com/image_search/src=http%3A%2F%2Fpic1.win4000.com%2Fpic%2F4%2F3b%2F1e90399022.jpg&refer=http%3A%2F%2Fpic1.win4000.com&app=2002&size=f9999,10000&q=a80&n=0&g=0n&fmt=jpeg?sec=1623503462&t=e97efd6e08490e2d230cceb0d2beee63\n",
      "正在下载第87张图片，图片地址：https://gimg2.baidu.com/image_search/src=http%3A%2F%2Fimg5.51tietu.net%2Fpic%2F2019-081403%2Fx5d2or5bkwvx5d2or5bkwv.jpg&refer=http%3A%2F%2Fimg5.51tietu.net&app=2002&size=f9999,10000&q=a80&n=0&g=0n&fmt=jpeg?sec=1623503462&t=3d1112614b213f65c9ffa4bd5ad7b187\n",
      "正在下载第88张图片，图片地址：https://gimg2.baidu.com/image_search/src=http%3A%2F%2Fpic1.win4000.com%2Fpic%2Fa%2F0c%2F72e2f44dc1_250_350.jpg&refer=http%3A%2F%2Fpic1.win4000.com&app=2002&size=f9999,10000&q=a80&n=0&g=0n&fmt=jpeg?sec=1623503462&t=125e887683f6f657aa1396c5938cd852\n",
      "正在下载第89张图片，图片地址：https://gimg2.baidu.com/image_search/src=http%3A%2F%2Fpic1.win4000.com%2Fwallpaper%2F2018-01-09%2F5a54addc066be.jpg&refer=http%3A%2F%2Fpic1.win4000.com&app=2002&size=f9999,10000&q=a80&n=0&g=0n&fmt=jpeg?sec=1623503462&t=13e740c30a74eee1d66d3f9467e16b0d\n"
     ]
    },
    {
     "name": "stdout",
     "output_type": "stream",
     "text": [
      "正在下载第90张图片，图片地址：https://gimg2.baidu.com/image_search/src=http%3A%2F%2Fn.sinaimg.cn%2Fsinacn20100%2F88%2Fw1000h1488%2F20190725%2F5c71-iafwsqp7373503.jpg&refer=http%3A%2F%2Fn.sinaimg.cn&app=2002&size=f9999,10000&q=a80&n=0&g=0n&fmt=jpeg?sec=1623503462&t=31f311e7bc7f9490a27fc5d088b89fa9\n",
      "正在下载第91张图片，图片地址：https://gimg2.baidu.com/image_search/src=http%3A%2F%2Fimg5.51tietu.net%2Fpic%2F2019-083122%2Fkggspvxgvhqkggspvxgvhq.jpg&refer=http%3A%2F%2Fimg5.51tietu.net&app=2002&size=f9999,10000&q=a80&n=0&g=0n&fmt=jpeg?sec=1623503462&t=1856dd1492261eb78ff6a9b7b2ed7bae\n",
      "正在下载第92张图片，图片地址：https://gimg2.baidu.com/image_search/src=http%3A%2F%2Fpic1.win4000.com%2Fwallpaper%2F2018-01-09%2F5a54add92d236.jpg&refer=http%3A%2F%2Fpic1.win4000.com&app=2002&size=f9999,10000&q=a80&n=0&g=0n&fmt=jpeg?sec=1623503462&t=511c1f3a4a50223ac7cf310df248cfc1\n",
      "正在下载第93张图片，图片地址：https://gimg2.baidu.com/image_search/src=http%3A%2F%2Fpic1.win4000.com%2Fpic%2Fb%2Fd4%2F2a5a1505489.jpg&refer=http%3A%2F%2Fpic1.win4000.com&app=2002&size=f9999,10000&q=a80&n=0&g=0n&fmt=jpeg?sec=1623503462&t=8376ad02b3a7bc7917cfb955bba99762\n",
      "正在下载第94张图片，图片地址：https://gimg2.baidu.com/image_search/src=http%3A%2F%2Fi0.hdslb.com%2Fbfs%2Farticle%2Fd885f60120a97877f615bd61b585e89f87225a98.jpg&refer=http%3A%2F%2Fi0.hdslb.com&app=2002&size=f9999,10000&q=a80&n=0&g=0n&fmt=jpeg?sec=1623503462&t=8353e329aef7306555df5265352eb07c\n",
      "正在下载第95张图片，图片地址：https://gimg2.baidu.com/image_search/src=http%3A%2F%2Fimg5.51tietu.net%2Fpic%2F2019-081818%2Fzf4dyyysf4czf4dyyysf4c.jpg&refer=http%3A%2F%2Fimg5.51tietu.net&app=2002&size=f9999,10000&q=a80&n=0&g=0n&fmt=jpeg?sec=1623503462&t=966de209d42dc8467b2aedd15e670f44\n",
      "正在下载第96张图片，图片地址：https://gimg2.baidu.com/image_search/src=http%3A%2F%2Fpic1.win4000.com%2Fwallpaper%2F2018-01-11%2F5a56f9be76dec.jpg&refer=http%3A%2F%2Fpic1.win4000.com&app=2002&size=f9999,10000&q=a80&n=0&g=0n&fmt=jpeg?sec=1623503462&t=2c73e3415bdd7881a287413445598409\n",
      "正在下载第97张图片，图片地址：https://gimg2.baidu.com/image_search/src=http%3A%2F%2Fpic1.win4000.com%2Fwallpaper%2F2018-02-01%2F5a72e3c71367d.jpg&refer=http%3A%2F%2Fpic1.win4000.com&app=2002&size=f9999,10000&q=a80&n=0&g=0n&fmt=jpeg?sec=1623503462&t=1ab905db1bbfaa7cc0991a3d73e042ae\n",
      "正在下载第98张图片，图片地址：https://gimg2.baidu.com/image_search/src=http%3A%2F%2Fnimg.ws.126.net%2F%3Furl%3Dhttp%253A%252F%252Fdingyue.ws.126.net%252F2021%252F0505%252F9028429dj00qslyp0000kc000hs00bug.jpg%26thumbnail%3D650x2147483647%26quality%3D80%26type%3Djpg&refer=http%3A%2F%2Fnimg.ws.126.net&app=2002&size=f9999,10000&q=a80&n=0&g=0n&fmt=jpeg?sec=1623503462&t=f29de6d3f2f5f24e90a36deefc4dc9fd\n",
      "正在下载第99张图片，图片地址：https://gimg2.baidu.com/image_search/src=http%3A%2F%2Fpic1.win4000.com%2Fpic%2F1%2Fd4%2Fadd3799791.jpg&refer=http%3A%2F%2Fpic1.win4000.com&app=2002&size=f9999,10000&q=a80&n=0&g=0n&fmt=jpeg?sec=1623503462&t=3ff879528711c8abdfa7b24ee9bc49af\n",
      "正在下载第100张图片，图片地址：https://gimg2.baidu.com/image_search/src=http%3A%2F%2Fpic1.win4000.com%2Fpic%2Fb%2Fd4%2F2a5a1505490.jpg&refer=http%3A%2F%2Fpic1.win4000.com&app=2002&size=f9999,10000&q=a80&n=0&g=0n&fmt=jpeg?sec=1623503462&t=eb49ed5d1ac2c19e7b0bad337316b761\n",
      "正在下载第101张图片，图片地址：https://gimg2.baidu.com/image_search/src=http%3A%2F%2F01.minipic.eastday.com%2F20170516%2F20170516171021_7a11e65a56c32f34663d0bf99340777d_12.jpeg&refer=http%3A%2F%2F01.minipic.eastday.com&app=2002&size=f9999,10000&q=a80&n=0&g=0n&fmt=jpeg?sec=1623503462&t=5b2a8fc8774959480974fe7b674c2636\n",
      "正在下载第102张图片，图片地址：https://gimg2.baidu.com/image_search/src=http%3A%2F%2F00.minipic.eastday.com%2F20170308%2F20170308154814_36201296318e846c67a8dac0b218e3ea_4.jpeg&refer=http%3A%2F%2F00.minipic.eastday.com&app=2002&size=f9999,10000&q=a80&n=0&g=0n&fmt=jpeg?sec=1623503462&t=e5183af98aef5c30617fc6479ba564a3\n",
      "正在下载第103张图片，图片地址：https://gimg2.baidu.com/image_search/src=http%3A%2F%2Fimg5.51tietu.net%2Fpic%2F2019-083002%2Fzxhq3x4fghlzxhq3x4fghl.jpg&refer=http%3A%2F%2Fimg5.51tietu.net&app=2002&size=f9999,10000&q=a80&n=0&g=0n&fmt=jpeg?sec=1623503462&t=6e0cac4a1909b4153162329d109c3df7\n",
      "正在下载第104张图片，图片地址：https://pics5.baidu.com/feed/0df431adcbef7609ba4ef919b44037ca7dd99e17.jpeg?token=f0cb8aa89888c634415ea9506be00a2a\n",
      "正在下载第105张图片，图片地址：https://gimg2.baidu.com/image_search/src=http%3A%2F%2Fpic1.win4000.com%2Fpic%2Fa%2Fcb%2F194c9353f4.jpg&refer=http%3A%2F%2Fpic1.win4000.com&app=2002&size=f9999,10000&q=a80&n=0&g=0n&fmt=jpeg?sec=1623503462&t=ccc36d7b215b237db0c1e65ef09a582c\n",
      "正在下载第106张图片，图片地址：https://gimg2.baidu.com/image_search/src=http%3A%2F%2Fpic1.win4000.com%2Fpic%2F9%2F4e%2Fa783737758.jpg&refer=http%3A%2F%2Fpic1.win4000.com&app=2002&size=f9999,10000&q=a80&n=0&g=0n&fmt=jpeg?sec=1623503462&t=cca72d57774e4bd0d0f65c7d91b2056d\n",
      "正在下载第107张图片，图片地址：https://gimg2.baidu.com/image_search/src=http%3A%2F%2Fpic1.win4000.com%2Fpic%2Ff%2F89%2F5c211291842.jpg&refer=http%3A%2F%2Fpic1.win4000.com&app=2002&size=f9999,10000&q=a80&n=0&g=0n&fmt=jpeg?sec=1623503462&t=732324f78355b4c16dcf0ff4af3c0e7d\n",
      "正在下载第108张图片，图片地址：https://gimg2.baidu.com/image_search/src=http%3A%2F%2Fpic1.win4000.com%2Fwallpaper%2F2018-01-15%2F5a5c792939e73.jpg&refer=http%3A%2F%2Fpic1.win4000.com&app=2002&size=f9999,10000&q=a80&n=0&g=0n&fmt=jpeg?sec=1623503462&t=36f7099f71f043b62b43e581cf3a94b4\n",
      "正在下载第109张图片，图片地址：https://gimg2.baidu.com/image_search/src=http%3A%2F%2Fimg5.51tietu.net%2Fpic%2F2019-082712%2Fmazj5rzc4damazj5rzc4da.jpg&refer=http%3A%2F%2Fimg5.51tietu.net&app=2002&size=f9999,10000&q=a80&n=0&g=0n&fmt=jpeg?sec=1623503462&t=86362e784829bb26cc8babd4bfd87c96\n",
      "正在下载第110张图片，图片地址：https://gimg2.baidu.com/image_search/src=http%3A%2F%2Fpic1.win4000.com%2Fwallpaper%2F2017-10-23%2F59ed951fd259c.jpg&refer=http%3A%2F%2Fpic1.win4000.com&app=2002&size=f9999,10000&q=a80&n=0&g=0n&fmt=jpeg?sec=1623503462&t=9e31140fc8c570e2bb019d5175d40a1a\n",
      "正在下载第111张图片，图片地址：https://gimg2.baidu.com/image_search/src=http%3A%2F%2Fn.sinaimg.cn%2Fsinacn17%2F700%2Fw600h900%2F20180916%2F4b77-hkahyhx8004050.jpg&refer=http%3A%2F%2Fn.sinaimg.cn&app=2002&size=f9999,10000&q=a80&n=0&g=0n&fmt=jpeg?sec=1623503462&t=a937ce5b6f10cde26fbc6f3853b8f045\n",
      "正在下载第112张图片，图片地址：https://gimg2.baidu.com/image_search/src=http%3A%2F%2Fnimg.ws.126.net%2F%3Furl%3Dhttp%253A%252F%252Fdingyue.ws.126.net%252F2021%252F0513%252F767614fdj00qt0ojg000qc000hs00a0c.jpg%26thumbnail%3D650x2147483647%26quality%3D80%26type%3Djpg&refer=http%3A%2F%2Fnimg.ws.126.net&app=2002&size=f9999,10000&q=a80&n=0&g=0n&fmt=jpeg?sec=1623503462&t=ba1bfe921c433b869967fd14e3ccbf88\n",
      "正在下载第113张图片，图片地址：https://gimg2.baidu.com/image_search/src=http%3A%2F%2Fnimg.ws.126.net%2F%3Furl%3Dhttp%253A%252F%252Fdingyue.ws.126.net%252F2021%252F0505%252F4f243b95j00qslyp2000pc000hs00bug.jpg%26thumbnail%3D650x2147483647%26quality%3D80%26type%3Djpg&refer=http%3A%2F%2Fnimg.ws.126.net&app=2002&size=f9999,10000&q=a80&n=0&g=0n&fmt=jpeg?sec=1623503462&t=d9919ba7d92079d7911bf368e237e085\n",
      "正在下载第114张图片，图片地址：https://gimg2.baidu.com/image_search/src=http%3A%2F%2Fpic1.win4000.com%2Fwallpaper%2F2018-05-17%2F5afd2fc3d62b1.jpg&refer=http%3A%2F%2Fpic1.win4000.com&app=2002&size=f9999,10000&q=a80&n=0&g=0n&fmt=jpeg?sec=1623503462&t=172c7f9e55f40ba79cf5fad5dd3d3347\n",
      "正在下载第115张图片，图片地址：https://gimg2.baidu.com/image_search/src=http%3A%2F%2Fimg5.51tietu.net%2Fpic%2F2019-083000%2F2gwaxqe22u22gwaxqe22u2.jpg&refer=http%3A%2F%2Fimg5.51tietu.net&app=2002&size=f9999,10000&q=a80&n=0&g=0n&fmt=jpeg?sec=1623503462&t=0880269d6b259dd10a52cc4c396d73b4\n",
      "正在下载第116张图片，图片地址：https://gimg2.baidu.com/image_search/src=http%3A%2F%2Fhbimg.b0.upaiyun.com%2F798e2da7b0769afaf69ce9d4e0da1cbfe9347f3d16ef3-DiQxYk_fw658&refer=http%3A%2F%2Fhbimg.b0.upaiyun.com&app=2002&size=f9999,10000&q=a80&n=0&g=0n&fmt=jpeg?sec=1623503462&t=07395309eb3f5c816bc83cc6993c7150\n",
      "正在下载第117张图片，图片地址：https://gimg2.baidu.com/image_search/src=http%3A%2F%2Fnimg.ws.126.net%2F%3Furl%3Dhttp%253A%252F%252Fdingyue.ws.126.net%252F2021%252F0513%252F5cdd6015j00qt0ojg000rc000hs00a0c.jpg%26thumbnail%3D650x2147483647%26quality%3D80%26type%3Djpg&refer=http%3A%2F%2Fnimg.ws.126.net&app=2002&size=f9999,10000&q=a80&n=0&g=0n&fmt=jpeg?sec=1623503462&t=96d5be73402b01e6d4be2a9bd8163d7c\n",
      "正在下载第118张图片，图片地址：https://gimg2.baidu.com/image_search/src=http%3A%2F%2Fimg5.51tietu.net%2Fpic%2F2019-082811%2Fcdgjwlbimzccdgjwlbimzc.jpg&refer=http%3A%2F%2Fimg5.51tietu.net&app=2002&size=f9999,10000&q=a80&n=0&g=0n&fmt=jpeg?sec=1623503462&t=cb12c1d9738c4d08a7b5ad21638f29ca\n"
     ]
    },
    {
     "name": "stdout",
     "output_type": "stream",
     "text": [
      "正在下载第119张图片，图片地址：https://gimg2.baidu.com/image_search/src=http%3A%2F%2Fimg5.51tietu.net%2Fpic%2F2019-082707%2Frbhzqnsyqo3rbhzqnsyqo3.jpg&refer=http%3A%2F%2Fimg5.51tietu.net&app=2002&size=f9999,10000&q=a80&n=0&g=0n&fmt=jpeg?sec=1623503462&t=f717e7abe45ea8efb2dc8d3108b25b1b\n",
      "下载完成！\n"
     ]
    }
   ],
   "source": [
    "# re 正则表达式,requests python简单易用的HTTP库\n",
    "import re\n",
    "import requests\n",
    "import os\n",
    "\n",
    "def downloadPic(html,keyword,i):\n",
    " #   html = html.decode('GBK')\n",
    "    pic_url = re.findall('\"objURL\":\"(.*?)\",',html,re.S)\n",
    "    \n",
    "    abc = i*60\n",
    "    print('找到关键字:' + keyword + '的图片开始下载。。。')\n",
    "    for each in pic_url:\n",
    "        print('正在下载第'+str(abc)+'张图片，图片地址：'+str(each))\n",
    "        try:\n",
    "            pic = requests.get(each, timeout=10)         \n",
    "        except requests.exceptions.ConnectionError:\n",
    "            print('【错误】当前图片无法下载')\n",
    "            continue\n",
    "            \n",
    "        dir = r'/Users/tangzhaoqian/Desktop/untitled folder/i'+keyword+'_'+str(abc)+'.jpg'\n",
    "        if not os.path.exists('/Users/tangzhaoqian/Desktop/untitled folder'):\n",
    "            os.makedirs('/Users/tangzhaoqian/Desktop/untitled folder')\n",
    "            \n",
    "        fp = open(dir,'wb')\n",
    "        fp.write(pic.content)\n",
    "        fp.close()\n",
    "        abc+=1\n",
    "        \n",
    "if __name__ == '__main__':\n",
    "    headers = {'User-Agent':'Mozilla/5.0'}\n",
    "    name = \"清纯妹子私房照\"\n",
    "    num = 0\n",
    "    x = 1\n",
    "    print(int(x))\n",
    "    for i in range(int(x)):\n",
    "        url = 'https://image.baidu.com/search/flip?tn=baiduimage&ie=utf-8&word=='+name+'+&pn='+str(i)\n",
    "        print(url)\n",
    "        result = requests.get(url,headers=headers)\n",
    "    #    print(result)\n",
    "        downloadPic(result.content.decode(),name,1)\n",
    "        \n",
    "print(\"下载完成！\")  "
   ]
  },
  {
   "cell_type": "code",
   "execution_count": null,
   "id": "bd4a25fc",
   "metadata": {},
   "outputs": [],
   "source": []
  }
 ],
 "metadata": {
  "kernelspec": {
   "display_name": "Python 3",
   "language": "python",
   "name": "python3"
  },
  "language_info": {
   "codemirror_mode": {
    "name": "ipython",
    "version": 3
   },
   "file_extension": ".py",
   "mimetype": "text/x-python",
   "name": "python",
   "nbconvert_exporter": "python",
   "pygments_lexer": "ipython3",
   "version": "3.7.4"
  }
 },
 "nbformat": 4,
 "nbformat_minor": 5
}
