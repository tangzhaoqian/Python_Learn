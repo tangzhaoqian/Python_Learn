{
 "cells": [
  {
   "cell_type": "code",
   "execution_count": 18,
   "id": "572ccbf5",
   "metadata": {},
   "outputs": [
    {
     "name": "stdout",
     "output_type": "stream",
     "text": [
      "1\n",
      "https://image.baidu.com/search/flip?tn=baiduimage&ie=utf-8&word==*****+&pn=0\n",
      "找到关键字:****的图片开始下载。。。\n",
     ]
    },
    {
     "name": "stdout",
     "output_type": "stream",
     "text": [

     ]
    },
    {
     "name": "stdout",
     "output_type": "stream",
     "text": [
      "*****\n",
      "下载完成！\n"
     ]
    }
   ],
   "source": [
    "# re 正则表达式,requests python简单易用的HTTP库\n",
    "import re\n",
    "import requests\n",
    "import os\n",
    "\n",
    "def downloadPic(html,keyword,i):\n",
    " #   html = html.decode('GBK')\n",
    "    pic_url = re.findall('\"objURL\":\"(.*?)\",',html,re.S)\n",
    "    \n",
    "    abc = i*60\n",
    "    print('找到关键字:' + keyword + '的图片开始下载。。。')\n",
    "    for each in pic_url:\n",
    "        print('正在下载第'+str(abc)+'张图片，图片地址：'+str(each))\n",
    "        try:\n",
    "            pic = requests.get(each, timeout=10)         \n",
    "        except requests.exceptions.ConnectionError:\n",
    "            print('【错误】当前图片无法下载')\n",
    "            continue\n",
    "            \n",
    "        dir = r'/Users/tangzhaoqian/Desktop/untitled folder/i'+keyword+'_'+str(abc)+'.jpg'\n",
    "        if not os.path.exists('/Users/tangzhaoqian/Desktop/untitled folder'):\n",
    "            os.makedirs('/Users/tangzhaoqian/Desktop/untitled folder')\n",
    "            \n",
    "        fp = open(dir,'wb')\n",
    "        fp.write(pic.content)\n",
    "        fp.close()\n",
    "        abc+=1\n",
    "        \n",
    "if __name__ == '__main__':\n",
    "    headers = {'User-Agent':'Mozilla/5.0'}\n",
    "    name = \"*****\"\n",
    "    num = 0\n",
    "    x = 1\n",
    "    print(int(x))\n",
    "    for i in range(int(x)):\n",
    "        url = 'https://image.baidu.com/search/flip?tn=baiduimage&ie=utf-8&word=='+name+'+&pn='+str(i)\n",
    "        print(url)\n",
    "        result = requests.get(url,headers=headers)\n",
    "    #    print(result)\n",
    "        downloadPic(result.content.decode(),name,1)\n",
    "        \n",
    "print(\"下载完成！\")  "
   ]
  },
  {
   "cell_type": "code",
   "execution_count": null,
   "id": "bd4a25fc",
   "metadata": {},
   "outputs": [],
   "source": []
  }
 ],
 "metadata": {
  "kernelspec": {
   "display_name": "Python 3",
   "language": "python",
   "name": "python3"
  },
  "language_info": {
   "codemirror_mode": {
    "name": "ipython",
    "version": 3
   },
   "file_extension": ".py",
   "mimetype": "text/x-python",
   "name": "python",
   "nbconvert_exporter": "python",
   "pygments_lexer": "ipython3",
   "version": "3.7.4"
  }
 },
 "nbformat": 4,
 "nbformat_minor": 5
}
